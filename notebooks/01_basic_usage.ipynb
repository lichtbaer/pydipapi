{
 "cells": [
  {
   "cell_type": "markdown",
   "metadata": {},
   "source": [
    "# PyDipAPI - Grundlagen und erste Schritte\n",
    "\n",
    "Dieses Notebook zeigt Ihnen die Grundlagen der Verwendung von PyDipAPI, dem Python-Client für die Bundestag API.\n",
    "\n",
    "## Was Sie lernen werden:\n",
    "1. API-Schlüssel einrichten\n",
    "2. Client initialisieren\n",
    "3. Erste einfache Abfragen durchführen\n",
    "4. Ergebnisse verstehen und verarbeiten\n",
    "\n",
    "## Voraussetzungen\n",
    "- Ein gültiger API-Schlüssel für die Bundestag API\n",
    "- PyDipAPI installiert (pip install -e . im Projektverzeichnis)"
   ]
  },
  {
   "cell_type": "markdown",
   "metadata": {},
   "source": [
    "## Schritt 1: Bibliotheken importieren\n",
    "\n",
    "Zuerst importieren wir die benötigten Bibliotheken:"
   ]
  },
  {
   "cell_type": "code",
   "execution_count": 1,
   "metadata": {},
   "outputs": [],
   "source": [
    "import sys\n",
    "import os\n",
    "\n",
    "# Füge das Projektverzeichnis zum Python-Pfad hinzu\n",
    "sys.path.insert(0, os.path.abspath('..'))\n",
    "\n",
    "from pydipapi import DipAnfrage\n",
    "import json\n",
    "from datetime import datetime"
   ]
  },
  {
   "cell_type": "markdown",
   "metadata": {},
   "source": [
    "## Schritt 2: API-Schlüssel konfigurieren\n",
    "\n",
    "**WICHTIG:** Ersetzen Sie HIER_IHREN_API_SCHLUESSEL_EINFUEGEN mit Ihrem echten API-Schlüssel!"
   ]
  },
  {
   "cell_type": "code",
   "execution_count": 2,
   "metadata": {},
   "outputs": [
    {
     "name": "stdout",
     "output_type": "stream",
     "text": [
      "✅ API-Schlüssel wurde konfiguriert\n"
     ]
    }
   ],
   "source": [
    "# Ihren API-Schlüssel hier einfügen\n",
    "API_KEY = \"HIER_IHREN_API_SCHLUESSEL_EINFUEGEN\"\n",
    "\n",
    "# Überprüfen, ob ein gültiger API-Schlüssel eingegeben wurde\n",
    "if API_KEY == \"OSOegLs.PR2lwJ1dwCeje9vTj7FPOt3hvpYKtwKkhw\":\n",
    "    print(\"⚠️  BITTE ERSETZEN SIE DEN PLATZHALTER MIT IHREM ECHTEN API-SCHLÜSSEL!\")\n",
    "    print(\"Den API-Schlüssel erhalten Sie unter: https://dip.bundestag.de/api/\")\n",
    "else:\n",
    "    print(\"✅ API-Schlüssel wurde konfiguriert\")"
   ]
  },
  {
   "cell_type": "code",
   "execution_count": null,
   "metadata": {},
   "outputs": [],
   "source": []
  }
 ],
 "metadata": {
  "kernelspec": {
   "display_name": "Python 3 (ipykernel)",
   "language": "python",
   "name": "python3"
  },
  "language_info": {
   "codemirror_mode": {
    "name": "ipython",
    "version": 3
   },
   "file_extension": ".py",
   "mimetype": "text/x-python",
   "name": "python",
   "nbconvert_exporter": "python",
   "pygments_lexer": "ipython3",
   "version": "3.13.3"
  }
 },
 "nbformat": 4,
 "nbformat_minor": 4
}
