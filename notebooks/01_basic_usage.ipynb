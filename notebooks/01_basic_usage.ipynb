{
 "cells": [
  {
   "cell_type": "markdown",
   "metadata": {},
   "source": [
    "# PyDipAPI - Grundlagen und erste Schritte\n",
    "\n",
    "Dieses Notebook zeigt Ihnen die Grundlagen der Verwendung von PyDipAPI, dem Python-Client f\u00fcr die Bundestag API.\n",
    "\n",
    "## Was Sie lernen werden:\n",
    "1. API-Schl\u00fcssel einrichten\n",
    "2. Client initialisieren\n",
    "3. Erste einfache Abfragen durchf\u00fchren\n",
    "4. Ergebnisse verstehen und verarbeiten\n",
    "\n",
    "## Voraussetzungen\n",
    "- Ein g\u00fcltiger API-Schl\u00fcssel f\u00fcr die Bundestag API\n",
    "- PyDipAPI installiert (pip install -e . im Projektverzeichnis)"
   ]
  },
  {
   "cell_type": "markdown",
   "metadata": {},
   "source": [
    "## Schritt 1: Bibliotheken importieren\n",
    "\n",
    "Zuerst importieren wir die ben\u00f6tigten Bibliotheken:"
   ]
  },
  {
   "cell_type": "code",
   "execution_count": null,
   "metadata": {},
   "outputs": [],
   "source": [
    "import sys\n",
    "import os\n",
    "\n",
    "# F\u00fcge das Projektverzeichnis zum Python-Pfad hinzu\n",
    "sys.path.insert(0, os.path.abspath('..'))\n",
    "\n",
    "from pydipapi import DipAnfrage\n",
    "import json\n",
    "from datetime import datetime"
   ]
  },
  {
   "cell_type": "markdown",
   "metadata": {},
   "source": [
    "## Schritt 2: API-Schl\u00fcssel konfigurieren\n",
    "\n",
    "**WICHTIG:** Ersetzen Sie HIER_IHREN_API_SCHLUESSEL_EINFUEGEN mit Ihrem echten API-Schl\u00fcssel!"
   ]
  },
  {
   "cell_type": "code",
   "execution_count": null,
   "metadata": {},
   "outputs": [],
   "source": [
    "# Ihren API-Schl\u00fcssel hier einf\u00fcgen\n",
    "API_KEY = \"HIER_IHREN_API_SCHLUESSEL_EINFUEGEN\"\n",
    "\n",
    "# \u00dcberpr\u00fcfen, ob ein g\u00fcltiger API-Schl\u00fcssel eingegeben wurde\n",
    "if API_KEY == \"HIER_IHREN_API_SCHLUESSEL_EINFUEGEN\":\n",
    "    print(\"\u26a0\ufe0f  BITTE ERSETZEN SIE DEN PLATZHALTER MIT IHREM ECHTEN API-SCHL\u00dcSSEL!\")\n",
    "    print(\"Den API-Schl\u00fcssel erhalten Sie unter: https://dip.bundestag.de/api/\")\n",
    "else:\n",
    "    print(\"\u2705 API-Schl\u00fcssel wurde konfiguriert\")"
   ]
  }
 ],
 "metadata": {
  "kernelspec": {
   "display_name": "Python 3",
   "language": "python",
   "name": "python3"
  },
  "language_info": {
   "codemirror_mode": {
    "name": "ipython",
    "version": 3
   },
   "file_extension": ".py",
   "name": "python",
   "nbconvert_exporter": "python",
   "pygments_lexer": "ipython3",
   "version": "3.8.5"
  }
 },
 "nbformat": 4,
 "nbformat_minor": 4
}