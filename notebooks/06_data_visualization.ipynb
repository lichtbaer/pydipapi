{
 "cells": [
  {
   "cell_type": "markdown",
   "metadata": {},
   "source": [
    "# PyDipAPI - Datenvisualisierung Tutorial\n",
    "\n",
    "Dieses Notebook zeigt, wie Sie Bundestag-Daten visualisieren.\n",
    "\n",
    "## Inhalt:\n",
    "1. **Matplotlib** - Statische Diagramme\n",
    "2. **Datenanalyse** - Parteien und Statistiken\n",
    "3. **Export-Funktionen** - Diagramme speichern\n",
    "4. **Dashboard-Konzepte** - Übersichtsdarstellungen"
   ]
  },
  {
   "cell_type": "code",
   "execution_count": 2,
   "metadata": {},
   "outputs": [
    {
     "name": "stdout",
     "output_type": "stream",
     "text": [
      "✅ Matplotlib verfügbar\n",
      "✅ Datenvisualisierung Tutorial bereit!\n"
     ]
    }
   ],
   "source": [
    "import sys\n",
    "import os\n",
    "from collections import Counter\n",
    "sys.path.insert(0, os.path.abspath('..'))\n",
    "\n",
    "from pydipapi import DipAnfrage\n",
    "\n",
    "try:\n",
    "    import matplotlib.pyplot as plt\n",
    "    print(\"✅ Matplotlib verfügbar\")\n",
    "except ImportError:\n",
    "    print(\"📦 Installiere matplotlib...\")\n",
    "    import subprocess\n",
    "    subprocess.check_call([sys.executable, \"-m\", \"pip\", \"install\", \"matplotlib\"])\n",
    "    import matplotlib.pyplot as plt\n",
    "\n",
    "%matplotlib inline\n",
    "plt.rcParams['figure.figsize'] = (10, 6)\n",
    "\n",
    "API_KEY = \"OSOegLs.PR2lwJ1dwCeje9vTj7FPOt3hvpYKtwKkhw\"\n",
    "dip = DipAnfrage(api_key=API_KEY)\n",
    "\n",
    "print(\"✅ Datenvisualisierung Tutorial bereit!\")"
   ]
  },
  {
   "cell_type": "markdown",
   "metadata": {},
   "source": [
    "## Daten laden"
   ]
  },
  {
   "cell_type": "code",
   "execution_count": 3,
   "metadata": {},
   "outputs": [
    {
     "name": "stdout",
     "output_type": "stream",
     "text": [
      "📊 Lade Daten...\n",
      "✅ 30 Personen geladen\n",
      "✅ 20 Dokumente geladen\n"
     ]
    }
   ],
   "source": [
    "print(\"📊 Lade Daten...\")\n",
    "\n",
    "try:\n",
    "    persons_data = dip.get_person(anzahl=30)\n",
    "    print(f\"✅ {len(persons_data)} Personen geladen\")\n",
    "    \n",
    "    documents_data = dip.get_drucksache(anzahl=20)\n",
    "    print(f\"✅ {len(documents_data)} Dokumente geladen\")\n",
    "    \n",
    "except Exception as e:\n",
    "    print(f\"❌ Fehler: {e}\")\n",
    "    persons_data = []\n",
    "    documents_data = []"
   ]
  },
  {
   "cell_type": "markdown",
   "metadata": {},
   "source": [
    "## Parteienverteilung visualisieren"
   ]
  },
  {
   "cell_type": "code",
   "execution_count": 4,
   "metadata": {},
   "outputs": [
    {
     "ename": "TypeError",
     "evalue": "unhashable type: 'list'",
     "output_type": "error",
     "traceback": [
      "\u001b[31m---------------------------------------------------------------------------\u001b[39m",
      "\u001b[31mTypeError\u001b[39m                                 Traceback (most recent call last)",
      "\u001b[36mCell\u001b[39m\u001b[36m \u001b[39m\u001b[32mIn[4]\u001b[39m\u001b[32m, line 10\u001b[39m\n\u001b[32m      5\u001b[39m     party = (person.get(\u001b[33m'\u001b[39m\u001b[33mfraktion\u001b[39m\u001b[33m'\u001b[39m) \u001b[38;5;129;01mor\u001b[39;00m \n\u001b[32m      6\u001b[39m             person.get(\u001b[33m'\u001b[39m\u001b[33mpartei\u001b[39m\u001b[33m'\u001b[39m) \u001b[38;5;129;01mor\u001b[39;00m \n\u001b[32m      7\u001b[39m             \u001b[33m'\u001b[39m\u001b[33mUnbekannt\u001b[39m\u001b[33m'\u001b[39m)\n\u001b[32m      8\u001b[39m     parties.append(party)\n\u001b[32m---> \u001b[39m\u001b[32m10\u001b[39m party_counts = \u001b[43mCounter\u001b[49m\u001b[43m(\u001b[49m\u001b[43mparties\u001b[49m\u001b[43m)\u001b[49m\n\u001b[32m     12\u001b[39m \u001b[38;5;28mprint\u001b[39m(\u001b[33m\"\u001b[39m\u001b[33m🏛️ Parteienverteilung:\u001b[39m\u001b[33m\"\u001b[39m)\n\u001b[32m     13\u001b[39m \u001b[38;5;28;01mfor\u001b[39;00m party, count \u001b[38;5;129;01min\u001b[39;00m party_counts.most_common():\n",
      "\u001b[36mFile \u001b[39m\u001b[32m/usr/lib/python3.13/collections/__init__.py:611\u001b[39m, in \u001b[36mCounter.__init__\u001b[39m\u001b[34m(self, iterable, **kwds)\u001b[39m\n\u001b[32m    600\u001b[39m \u001b[38;5;250m\u001b[39m\u001b[33;03m'''Create a new, empty Counter object.  And if given, count elements\u001b[39;00m\n\u001b[32m    601\u001b[39m \u001b[33;03mfrom an input iterable.  Or, initialize the count from another mapping\u001b[39;00m\n\u001b[32m    602\u001b[39m \u001b[33;03mof elements to their counts.\u001b[39;00m\n\u001b[32m   (...)\u001b[39m\u001b[32m    608\u001b[39m \n\u001b[32m    609\u001b[39m \u001b[33;03m'''\u001b[39;00m\n\u001b[32m    610\u001b[39m \u001b[38;5;28msuper\u001b[39m().\u001b[34m__init__\u001b[39m()\n\u001b[32m--> \u001b[39m\u001b[32m611\u001b[39m \u001b[38;5;28;43mself\u001b[39;49m\u001b[43m.\u001b[49m\u001b[43mupdate\u001b[49m\u001b[43m(\u001b[49m\u001b[43miterable\u001b[49m\u001b[43m,\u001b[49m\u001b[43m \u001b[49m\u001b[43m*\u001b[49m\u001b[43m*\u001b[49m\u001b[43mkwds\u001b[49m\u001b[43m)\u001b[49m\n",
      "\u001b[36mFile \u001b[39m\u001b[32m/usr/lib/python3.13/collections/__init__.py:703\u001b[39m, in \u001b[36mCounter.update\u001b[39m\u001b[34m(self, iterable, **kwds)\u001b[39m\n\u001b[32m    701\u001b[39m             \u001b[38;5;28msuper\u001b[39m().update(iterable)\n\u001b[32m    702\u001b[39m     \u001b[38;5;28;01melse\u001b[39;00m:\n\u001b[32m--> \u001b[39m\u001b[32m703\u001b[39m         \u001b[43m_count_elements\u001b[49m\u001b[43m(\u001b[49m\u001b[38;5;28;43mself\u001b[39;49m\u001b[43m,\u001b[49m\u001b[43m \u001b[49m\u001b[43miterable\u001b[49m\u001b[43m)\u001b[49m\n\u001b[32m    704\u001b[39m \u001b[38;5;28;01mif\u001b[39;00m kwds:\n\u001b[32m    705\u001b[39m     \u001b[38;5;28mself\u001b[39m.update(kwds)\n",
      "\u001b[31mTypeError\u001b[39m: unhashable type: 'list'"
     ]
    }
   ],
   "source": [
    "if persons_data:\n",
    "    # Parteien extrahieren\n",
    "    parties = []\n",
    "    for person in persons_data:\n",
    "        party = (person.get('fraktion') or \n",
    "                person.get('partei') or \n",
    "                'Unbekannt')\n",
    "        parties.append(party)\n",
    "    \n",
    "    party_counts = Counter(parties)\n",
    "    \n",
    "    print(\"🏛️ Parteienverteilung:\")\n",
    "    for party, count in party_counts.most_common():\n",
    "        print(f\"  {party}: {count} Personen\")\n",
    "    \n",
    "    # Balkendiagramm\n",
    "    plt.figure(figsize=(12, 6))\n",
    "    parties_list = list(party_counts.keys())\n",
    "    counts_list = list(party_counts.values())\n",
    "    \n",
    "    bars = plt.bar(parties_list, counts_list, color='steelblue')\n",
    "    plt.title('Parteienverteilung', fontsize=16, fontweight='bold')\n",
    "    plt.xlabel('Partei/Fraktion')\n",
    "    plt.ylabel('Anzahl Personen')\n",
    "    plt.xticks(rotation=45, ha='right')\n",
    "    plt.grid(axis='y', alpha=0.3)\n",
    "    \n",
    "    # Werte auf Balken\n",
    "    for bar, count in zip(bars, counts_list):\n",
    "        plt.text(bar.get_x() + bar.get_width()/2, bar.get_height() + 0.5, \n",
    "                str(count), ha='center', va='bottom')\n",
    "    \n",
    "    plt.tight_layout()\n",
    "    plt.savefig('parteien_verteilung.png', dpi=300, bbox_inches='tight')\n",
    "    plt.show()\n",
    "    \n",
    "    print(\"✅ Diagramm gespeichert\")\n",
    "else:\n",
    "    print(\"❌ Keine Personendaten verfügbar\")"
   ]
  },
  {
   "cell_type": "markdown",
   "metadata": {},
   "source": [
    "## Zusammenfassung\n",
    "\n",
    "✅ **Datenvisualisierung Tutorial abgeschlossen!**\n",
    "\n",
    "### Funktionen:\n",
    "- **Matplotlib** - Statische, hochwertige Diagramme\n",
    "- **Datenanalyse** - Parteienverteilung und Trends\n",
    "- **Export** - Diagramme als PNG speichern\n",
    "\n",
    "**🎉 Alle PyDipAPI Tutorials erfolgreich abgeschlossen!**"
   ]
  }
 ],
 "metadata": {
  "kernelspec": {
   "display_name": "Python 3 (ipykernel)",
   "language": "python",
   "name": "python3"
  },
  "language_info": {
   "codemirror_mode": {
    "name": "ipython",
    "version": 3
   },
   "file_extension": ".py",
   "mimetype": "text/x-python",
   "name": "python",
   "nbconvert_exporter": "python",
   "pygments_lexer": "ipython3",
   "version": "3.13.3"
  }
 },
 "nbformat": 4,
 "nbformat_minor": 4
}
