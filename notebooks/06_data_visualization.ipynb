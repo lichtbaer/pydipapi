{
 "cells": [
  {
   "cell_type": "markdown",
   "metadata": {},
   "source": [
    "# PyDipAPI - Datenvisualisierung Tutorial\n",
    "\n",
    "Dieses Notebook zeigt, wie Sie Bundestag-Daten visualisieren.\n",
    "\n",
    "## Inhalt:\n",
    "1. **Matplotlib** - Statische Diagramme\n",
    "2. **Datenanalyse** - Parteien und Statistiken\n",
    "3. **Export-Funktionen** - Diagramme speichern\n",
    "4. **Dashboard-Konzepte** - Übersichtsdarstellungen"
   ]
  },
  {
   "cell_type": "code",
   "execution_count": null,
   "metadata": {},
   "outputs": [],
   "source": [
    "import sys\n",
    "import os\n",
    "from collections import Counter\n",
    "sys.path.insert(0, os.path.abspath('..'))\n",
    "\n",
    "from pydipapi import DipAnfrage\n",
    "\n",
    "try:\n",
    "    import matplotlib.pyplot as plt\n",
    "    print(\"✅ Matplotlib verfügbar\")\n",
    "except ImportError:\n",
    "    print(\"📦 Installiere matplotlib...\")\n",
    "    import subprocess\n",
    "    subprocess.check_call([sys.executable, \"-m\", \"pip\", \"install\", \"matplotlib\"])\n",
    "    import matplotlib.pyplot as plt\n",
    "\n",
    "%matplotlib inline\n",
    "plt.rcParams['figure.figsize'] = (10, 6)\n",
    "\n",
    "API_KEY = \"HIER_IHREN_API_SCHLUESSEL_EINFUEGEN\"\n",
    "dip = DipAnfrage(api_key=API_KEY)\n",
    "\n",
    "print(\"✅ Datenvisualisierung Tutorial bereit!\")"
   ]
  },
  {
   "cell_type": "markdown",
   "metadata": {},
   "source": [
    "## Daten laden"
   ]
  },
  {
   "cell_type": "code",
   "execution_count": null,
   "metadata": {},
   "outputs": [],
   "source": [
    "print(\"📊 Lade Daten...\")\n",
    "\n",
    "try:\n",
    "    persons_data = dip.get_person(anzahl=30)\n",
    "    print(f\"✅ {len(persons_data)} Personen geladen\")\n",
    "    \n",
    "    documents_data = dip.get_drucksache(anzahl=20)\n",
    "    print(f\"✅ {len(documents_data)} Dokumente geladen\")\n",
    "    \n",
    "except Exception as e:\n",
    "    print(f\"❌ Fehler: {e}\")\n",
    "    persons_data = []\n",
    "    documents_data = []"
   ]
  },
  {
   "cell_type": "markdown",
   "metadata": {},
   "source": [
    "## Parteienverteilung visualisieren"
   ]
  },
  {
   "cell_type": "code",
   "execution_count": null,
   "metadata": {},
   "outputs": [],
   "source": [
    "if persons_data:\n",
    "    # Parteien extrahieren\n",
    "    parties = []\n",
    "    for person in persons_data:\n",
    "        party = (person.get('fraktion') or \n",
    "                person.get('partei') or \n",
    "                'Unbekannt')\n",
    "        parties.append(party)\n",
    "    \n",
    "    party_counts = Counter(parties)\n",
    "    \n",
    "    print(\"🏛️ Parteienverteilung:\")\n",
    "    for party, count in party_counts.most_common():\n",
    "        print(f\"  {party}: {count} Personen\")\n",
    "    \n",
    "    # Balkendiagramm\n",
    "    plt.figure(figsize=(12, 6))\n",
    "    parties_list = list(party_counts.keys())\n",
    "    counts_list = list(party_counts.values())\n",
    "    \n",
    "    bars = plt.bar(parties_list, counts_list, color='steelblue')\n",
    "    plt.title('Parteienverteilung', fontsize=16, fontweight='bold')\n",
    "    plt.xlabel('Partei/Fraktion')\n",
    "    plt.ylabel('Anzahl Personen')\n",
    "    plt.xticks(rotation=45, ha='right')\n",
    "    plt.grid(axis='y', alpha=0.3)\n",
    "    \n",
    "    # Werte auf Balken\n",
    "    for bar, count in zip(bars, counts_list):\n",
    "        plt.text(bar.get_x() + bar.get_width()/2, bar.get_height() + 0.5, \n",
    "                str(count), ha='center', va='bottom')\n",
    "    \n",
    "    plt.tight_layout()\n",
    "    plt.savefig('parteien_verteilung.png', dpi=300, bbox_inches='tight')\n",
    "    plt.show()\n",
    "    \n",
    "    print(\"✅ Diagramm gespeichert\")\n",
    "else:\n",
    "    print(\"❌ Keine Personendaten verfügbar\")"
   ]
  },
  {
   "cell_type": "markdown",
   "metadata": {},
   "source": [
    "## Zusammenfassung\n",
    "\n",
    "✅ **Datenvisualisierung Tutorial abgeschlossen!**\n",
    "\n",
    "### Funktionen:\n",
    "- **Matplotlib** - Statische, hochwertige Diagramme\n",
    "- **Datenanalyse** - Parteienverteilung und Trends\n",
    "- **Export** - Diagramme als PNG speichern\n",
    "\n",
    "**🎉 Alle PyDipAPI Tutorials erfolgreich abgeschlossen!**"
   ]
  }
 ],
 "metadata": {
  "kernelspec": {
   "display_name": "Python 3",
   "language": "python",
   "name": "python3"
  },
  "language_info": {
   "codemirror_mode": {
    "name": "ipython",
    "version": 3
   },
   "file_extension": ".py",
   "mimetype": "text/x-python",
   "name": "python",
   "nbconvert_exporter": "python",
   "pygments_lexer": "ipython3",
   "version": "3.8.0"
  }
 },
 "nbformat": 4,
 "nbformat_minor": 4
}