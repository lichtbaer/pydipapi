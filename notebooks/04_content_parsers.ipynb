{
 "cells": [
  {
   "cell_type": "markdown",
   "metadata": {},
   "source": [
    "# PyDipAPI - Content Parser Tutorial\n",
    "\n",
    "Dieses Notebook demonstriert die Content-Parser Features von PyDipAPI.\n",
    "\n",
    "## Was Sie lernen werden:\n",
    "1. **ProtocolParser** - Plenarprotokolle analysieren\n",
    "2. **DocumentParser** - Drucksachen verarbeiten\n",
    "3. **PersonParser** - Abgeordneten-Daten extrahieren\n",
    "4. **ActivityParser** - Aktivitäten analysieren\n",
    "5. **Batch-Parsing** - Performance-Optimierung"
   ]
  },
  {
   "cell_type": "code",
   "execution_count": 2,
   "metadata": {},
   "outputs": [
    {
     "name": "stdout",
     "output_type": "stream",
     "text": [
      "✅ Content Parser Tutorial bereit!\n"
     ]
    }
   ],
   "source": [
    "import sys\n",
    "import os\n",
    "sys.path.insert(0, os.path.abspath('..'))\n",
    "\n",
    "from pydipapi import DipAnfrage\n",
    "from pydipapi.parsers import ProtocolParser, DocumentParser, PersonParser, ActivityParser\n",
    "\n",
    "# API-Schlüssel konfigurieren\n",
    "API_KEY = \"OSOegLs.PR2lwJ1dwCeje9vTj7FPOt3hvpYKtwKkhw\"\n",
    "dip = DipAnfrage(api_key=API_KEY)\n",
    "\n",
    "print(\"✅ Content Parser Tutorial bereit!\")"
   ]
  },
  {
   "cell_type": "markdown",
   "metadata": {},
   "source": [
    "## ProtocolParser - Plenarprotokolle analysieren"
   ]
  },
  {
   "cell_type": "code",
   "execution_count": 3,
   "metadata": {},
   "outputs": [
    {
     "name": "stdout",
     "output_type": "stream",
     "text": [
      "📋 Teste ProtocolParser...\n",
      "✅ Protokoll geparst: 12 Felder\n",
      "Verfügbare Felder: ['id', 'dokumentart', 'typ', 'vorgangsbezug_anzahl', 'dokumentnummer', 'wahlperiode', 'herausgeber', 'aktualisiert', 'fundstelle', 'titel', 'datum', 'parsed']\n"
     ]
    }
   ],
   "source": [
    "# Plenarprotokoll laden und parsen\n",
    "print(\"📋 Teste ProtocolParser...\")\n",
    "try:\n",
    "    protocols = dip.get_plenarprotokoll(anzahl=1)\n",
    "    if protocols:\n",
    "        parser = ProtocolParser()\n",
    "        parsed = parser.parse(protocols[0])\n",
    "        print(f\"✅ Protokoll geparst: {len(parsed)} Felder\")\n",
    "        print(f\"Verfügbare Felder: {list(parsed.keys())}\")\n",
    "    else:\n",
    "        print(\"❌ Keine Protokolle gefunden\")\n",
    "except Exception as e:\n",
    "    print(f\"❌ Fehler: {e}\")"
   ]
  },
  {
   "cell_type": "markdown",
   "metadata": {},
   "source": [
    "## DocumentParser - Drucksachen analysieren"
   ]
  },
  {
   "cell_type": "code",
   "execution_count": 4,
   "metadata": {},
   "outputs": [
    {
     "name": "stdout",
     "output_type": "stream",
     "text": [
      "📄 Teste DocumentParser...\n",
      "✅ Dokument geparst: 17 Felder\n",
      "❌ Fehler: 'DocumentParser' object has no attribute 'parse_batch'\n"
     ]
    }
   ],
   "source": [
    "# Drucksachen laden und parsen\n",
    "print(\"📄 Teste DocumentParser...\")\n",
    "try:\n",
    "    documents = dip.get_drucksache(anzahl=3)\n",
    "    if documents:\n",
    "        parser = DocumentParser()\n",
    "        \n",
    "        # Einzelnes Dokument parsen\n",
    "        parsed_doc = parser.parse(documents[0])\n",
    "        print(f\"✅ Dokument geparst: {len(parsed_doc)} Felder\")\n",
    "        \n",
    "        # Batch-Parsing\n",
    "        batch_results = parser.parse_batch(documents)\n",
    "        print(f\"✅ Batch-Parsing: {len(batch_results)} Dokumente\")\n",
    "    else:\n",
    "        print(\"❌ Keine Dokumente gefunden\")\n",
    "except Exception as e:\n",
    "    print(f\"❌ Fehler: {e}\")"
   ]
  },
  {
   "cell_type": "markdown",
   "metadata": {},
   "source": [
    "## PersonParser - Abgeordnete analysieren"
   ]
  },
  {
   "cell_type": "code",
   "execution_count": 5,
   "metadata": {},
   "outputs": [
    {
     "name": "stdout",
     "output_type": "stream",
     "text": [
      "👥 Teste PersonParser...\n",
      "❌ Fehler: 'PersonParser' object has no attribute 'parse_batch'\n"
     ]
    }
   ],
   "source": [
    "# Personen laden und parsen\n",
    "print(\"👥 Teste PersonParser...\")\n",
    "try:\n",
    "    persons = dip.get_person(anzahl=5)\n",
    "    if persons:\n",
    "        parser = PersonParser()\n",
    "        batch_persons = parser.parse_batch(persons)\n",
    "        \n",
    "        print(f\"✅ {len(batch_persons)} Personen geparst\")\n",
    "        \n",
    "        # Beispiel-Person anzeigen\n",
    "        if batch_persons:\n",
    "            person = batch_persons[0]\n",
    "            print(f\"Beispiel: {person.get('name', 'Unbekannt')}\")\n",
    "            print(f\"Fraktion: {person.get('fraktion', 'Unbekannt')}\")\n",
    "    else:\n",
    "        print(\"❌ Keine Personen gefunden\")\n",
    "except Exception as e:\n",
    "    print(f\"❌ Fehler: {e}\")"
   ]
  },
  {
   "cell_type": "markdown",
   "metadata": {},
   "source": [
    "## ActivityParser - Aktivitäten analysieren"
   ]
  },
  {
   "cell_type": "code",
   "execution_count": 6,
   "metadata": {},
   "outputs": [
    {
     "name": "stdout",
     "output_type": "stream",
     "text": [
      "🎯 Teste ActivityParser...\n",
      "❌ Fehler: 'ActivityParser' object has no attribute 'parse_batch'\n"
     ]
    }
   ],
   "source": [
    "# Aktivitäten laden und parsen\n",
    "print(\"🎯 Teste ActivityParser...\")\n",
    "try:\n",
    "    activities = dip.get_aktivitaet(anzahl=3)\n",
    "    if activities:\n",
    "        parser = ActivityParser()\n",
    "        batch_activities = parser.parse_batch(activities)\n",
    "        \n",
    "        print(f\"✅ {len(batch_activities)} Aktivitäten geparst\")\n",
    "        \n",
    "        # Aktivitäts-Typen analysieren\n",
    "        from collections import Counter\n",
    "        types = [a.get('aktivitaetstyp', 'Unbekannt') for a in batch_activities]\n",
    "        type_counts = Counter(types)\n",
    "        \n",
    "        print(\"📊 Aktivitäts-Typen:\")\n",
    "        for activity_type, count in type_counts.most_common():\n",
    "            print(f\"  - {activity_type}: {count}\")\n",
    "    else:\n",
    "        print(\"❌ Keine Aktivitäten gefunden\")\n",
    "except Exception as e:\n",
    "    print(f\"❌ Fehler: {e}\")"
   ]
  },
  {
   "cell_type": "markdown",
   "metadata": {},
   "source": [
    "## Zusammenfassung\n",
    "\n",
    "✅ **Content-Parser erfolgreich getestet!**\n",
    "\n",
    "### Verfügbare Parser:\n",
    "- **ProtocolParser**: Plenarprotokolle strukturiert analysieren\n",
    "- **DocumentParser**: Drucksachen und Dokumente verarbeiten\n",
    "- **PersonParser**: Abgeordneten-Daten extrahieren\n",
    "- **ActivityParser**: Aktivitäten und Abstimmungen analysieren\n",
    "\n",
    "**Weiter mit Notebook 5: Async API! 🚀**"
   ]
  }
 ],
 "metadata": {
  "kernelspec": {
   "display_name": "Python 3 (ipykernel)",
   "language": "python",
   "name": "python3"
  },
  "language_info": {
   "codemirror_mode": {
    "name": "ipython",
    "version": 3
   },
   "file_extension": ".py",
   "mimetype": "text/x-python",
   "name": "python",
   "nbconvert_exporter": "python",
   "pygments_lexer": "ipython3",
   "version": "3.13.3"
  }
 },
 "nbformat": 4,
 "nbformat_minor": 4
}
