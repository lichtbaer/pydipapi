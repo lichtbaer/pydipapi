{
 "cells": [
  {
   "cell_type": "markdown",
   "metadata": {},
   "source": [
    "# PyDipAPI - Erweiterte Filterung und Suche\n",
    "\n",
    "In diesem Notebook lernen Sie die erweiterten Such- und Filterfunktionen von PyDipAPI kennen.\n",
    "\n",
    "## Inhalt:\n",
    "1. Textsuche in Dokumenten\n",
    "2. Datumsbasierte Filter\n",
    "3. Wahlperioden-Filter\n",
    "4. Kombinierte Filter"
   ]
  },
  {
   "cell_type": "code",
   "execution_count": null,
   "metadata": {},
   "outputs": [],
   "source": [
    "# Setup\n",
    "import sys\n",
    "import os\n",
    "sys.path.insert(0, os.path.abspath('..'))\n",
    "\n",
    "from pydipapi import DipAnfrage\n",
    "from datetime import datetime, timedelta\n",
    "\n",
    "# WICHTIG: Ersetzen Sie dies mit Ihrem echten API-Schl\u00fcssel!\n",
    "API_KEY = \"HIER_IHREN_API_SCHLUESSEL_EINFUEGEN\"\n",
    "\n",
    "if API_KEY != \"HIER_IHREN_API_SCHLUESSEL_EINFUEGEN\":\n",
    "    client = DipAnfrage(api_key=API_KEY)\n",
    "    print(\"\ud83d\ude80 Client initialisiert!\")\n",
    "else:\n",
    "    print(\"\u26a0\ufe0f  Bitte API-Schl\u00fcssel einf\u00fcgen!\")"
   ]
  },
  {
   "cell_type": "markdown",
   "metadata": {},
   "source": [
    "## Erweiterte Textsuche\n",
    "\n",
    "Probieren Sie verschiedene Suchbegriffe aus:"
   ]
  },
  {
   "cell_type": "code",
   "execution_count": null,
   "metadata": {},
   "outputs": [],
   "source": [
    "# Verschiedene Suchbegriffe ausprobieren\n",
    "search_terms = [\"Klimawandel\", \"Digitalisierung\", \"Bildung\"]\n",
    "\n",
    "for term in search_terms:\n",
    "    try:\n",
    "        results = client.search_documents(term, anzahl=2)\n",
    "        print(f\"\ud83d\udd0d '{term}': {len(results)} Dokumente gefunden\")\n",
    "        if results:\n",
    "            print(f\"   \u2192 Neuestes: {results[0].get('titel', 'N/A')[:60]}...\")\n",
    "    except Exception as e:\n",
    "        print(f\"\u274c Fehler: {e}\")"
   ]
  }
 ],
 "metadata": {
  "kernelspec": {
   "display_name": "Python 3",
   "language": "python",
   "name": "python3"
  },
  "language_info": {
   "codemirror_mode": {
    "name": "ipython",
    "version": 3
   },
   "file_extension": ".py",
   "name": "python",
   "nbconvert_exporter": "python",
   "pygments_lexer": "ipython3",
   "version": "3.8.5"
  }
 },
 "nbformat": 4,
 "nbformat_minor": 4
}