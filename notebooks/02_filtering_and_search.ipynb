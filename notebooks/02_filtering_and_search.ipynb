{
 "cells": [
  {
   "cell_type": "markdown",
   "metadata": {},
   "source": [
    "# PyDipAPI - Erweiterte Filterung und Suche\n",
    "\n",
    "In diesem Notebook lernen Sie die erweiterten Such- und Filterfunktionen von PyDipAPI kennen.\n",
    "\n",
    "## Inhalt:\n",
    "1. Textsuche in Dokumenten\n",
    "2. Datumsbasierte Filter\n",
    "3. Wahlperioden-Filter\n",
    "4. Kombinierte Filter"
   ]
  },
  {
   "cell_type": "code",
   "execution_count": 1,
   "metadata": {},
   "outputs": [
    {
     "name": "stdout",
     "output_type": "stream",
     "text": [
      "🚀 Client initialisiert!\n"
     ]
    }
   ],
   "source": [
    "# Setup\n",
    "import sys\n",
    "import os\n",
    "sys.path.insert(0, os.path.abspath('..'))\n",
    "\n",
    "from pydipapi import DipAnfrage\n",
    "from datetime import datetime, timedelta\n",
    "\n",
    "# WICHTIG: Ersetzen Sie dies mit Ihrem echten API-Schlüssel!\n",
    "API_KEY = \"OSOegLs.PR2lwJ1dwCeje9vTj7FPOt3hvpYKtwKkhw\"\n",
    "\n",
    "if API_KEY != \"HIER_IHREN_API_SCHLUESSEL_EINFUEGEN\":\n",
    "    client = DipAnfrage(api_key=API_KEY)\n",
    "    print(\"🚀 Client initialisiert!\")\n",
    "else:\n",
    "    print(\"⚠️  Bitte API-Schlüssel einfügen!\")"
   ]
  },
  {
   "cell_type": "markdown",
   "metadata": {},
   "source": [
    "## Erweiterte Textsuche\n",
    "\n",
    "Probieren Sie verschiedene Suchbegriffe aus:"
   ]
  },
  {
   "cell_type": "code",
   "execution_count": 2,
   "metadata": {},
   "outputs": [
    {
     "name": "stderr",
     "output_type": "stream",
     "text": [
      "WARNING:root:Failed to write cache file .cache/d445cec38b18a32e90f716e749a9e868fbe5257a8bd87ec680f73be9aca2c859.json: Object of type bytes is not JSON serializable\n",
      "WARNING:root:Failed to write cache file .cache/c1d19c4ea2146202c56cc3e53868b42e50ef9a0ca22c547f76dd4e0cc3519ab4.json: Object of type bytes is not JSON serializable\n",
      "WARNING:root:Failed to write cache file .cache/f5d6fa398d834e744f336d1ebef770c04334bd5ad946d3093f8723613d76e3fc.json: Object of type bytes is not JSON serializable\n"
     ]
    },
    {
     "name": "stdout",
     "output_type": "stream",
     "text": [
      "🔍 'Klimawandel': 100 Dokumente gefunden\n",
      "   → Neuestes: Bornavirus (BoDV‑1) - Gefährdungslage in Deutschland...\n",
      "🔍 'Digitalisierung': 100 Dokumente gefunden\n",
      "   → Neuestes: Bornavirus (BoDV‑1) - Gefährdungslage in Deutschland...\n",
      "🔍 'Bildung': 100 Dokumente gefunden\n",
      "   → Neuestes: Bornavirus (BoDV‑1) - Gefährdungslage in Deutschland...\n"
     ]
    }
   ],
   "source": [
    "# Verschiedene Suchbegriffe ausprobieren\n",
    "search_terms = [\"Klimawandel\", \"Digitalisierung\", \"Bildung\"]\n",
    "\n",
    "for term in search_terms:\n",
    "    try:\n",
    "        results = client.search_documents(term, anzahl=2)\n",
    "        print(f\"🔍 '{term}': {len(results)} Dokumente gefunden\")\n",
    "        if results:\n",
    "            print(f\"   → Neuestes: {results[0].get('titel', 'N/A')[:60]}...\")\n",
    "    except Exception as e:\n",
    "        print(f\"❌ Fehler: {e}\")"
   ]
  },
  {
   "cell_type": "code",
   "execution_count": null,
   "metadata": {},
   "outputs": [],
   "source": []
  }
 ],
 "metadata": {
  "kernelspec": {
   "display_name": "Python 3 (ipykernel)",
   "language": "python",
   "name": "python3"
  },
  "language_info": {
   "codemirror_mode": {
    "name": "ipython",
    "version": 3
   },
   "file_extension": ".py",
   "mimetype": "text/x-python",
   "name": "python",
   "nbconvert_exporter": "python",
   "pygments_lexer": "ipython3",
   "version": "3.13.3"
  }
 },
 "nbformat": 4,
 "nbformat_minor": 4
}
