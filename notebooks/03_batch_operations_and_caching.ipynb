{
 "cells": [
  {
   "cell_type": "markdown",
   "metadata": {},
   "source": [
    "# PyDipAPI - Batch-Operationen und Caching\n",
    "\n",
    "In diesem Notebook lernen Sie fortgeschrittene Funktionen für effizientes Arbeiten.\n",
    "\n",
    "## Inhalt:\n",
    "1. Batch-Anfragen für mehrere IDs\n",
    "2. Caching aktivieren und nutzen\n",
    "3. Performance-Optimierung\n",
    "4. Best Practices"
   ]
  },
  {
   "cell_type": "code",
   "execution_count": 1,
   "metadata": {},
   "outputs": [
    {
     "name": "stdout",
     "output_type": "stream",
     "text": [
      "🚀 Client mit Caching initialisiert!\n"
     ]
    }
   ],
   "source": [
    "# Setup mit Caching\n",
    "import sys\n",
    "import os\n",
    "import time\n",
    "sys.path.insert(0, os.path.abspath('..'))\n",
    "\n",
    "from pydipapi import DipAnfrage\n",
    "\n",
    "# WICHTIG: Ersetzen Sie dies mit Ihrem echten API-Schlüssel!\n",
    "API_KEY = \"OSOegLs.PR2lwJ1dwCeje9vTj7FPOt3hvpYKtwKkhw\"\n",
    "\n",
    "if API_KEY != \"HIER_IHREN_API_SCHLUESSEL_EINFUEGEN\":\n",
    "    # Client mit aktiviertem Caching\n",
    "    client = DipAnfrage(\n",
    "        api_key=API_KEY,\n",
    "        enable_cache=True,\n",
    "        cache_ttl=3600,\n",
    "        rate_limit_delay=0.2\n",
    "    )\n",
    "    print(\"🚀 Client mit Caching initialisiert!\")\n",
    "else:\n",
    "    print(\"⚠️  Bitte API-Schlüssel einfügen!\")"
   ]
  },
  {
   "cell_type": "markdown",
   "metadata": {},
   "source": [
    "## Batch-Anfragen\n",
    "\n",
    "Mehrere IDs auf einmal abfragen:"
   ]
  },
  {
   "cell_type": "code",
   "execution_count": 2,
   "metadata": {},
   "outputs": [
    {
     "name": "stdout",
     "output_type": "stream",
     "text": [
      "📋 Sammle IDs für Batch-Anfragen...\n",
      "✅ 3 Dokument-IDs gesammelt: ['280364', '280362', '280361']\n",
      "🚀 Batch-Anfrage in 0.02s abgeschlossen\n",
      "📊 10 Dokumente erhalten\n"
     ]
    }
   ],
   "source": [
    "# Batch-Anfrage demonstrieren\n",
    "print(\"📋 Sammle IDs für Batch-Anfragen...\")\n",
    "\n",
    "try:\n",
    "    # Sammle einige IDs\n",
    "    docs = client.get_drucksache(anzahl=5)\n",
    "    doc_ids = [doc.get('id') for doc in docs if doc.get('id')][:3]\n",
    "    \n",
    "    print(f\"✅ {len(doc_ids)} Dokument-IDs gesammelt: {doc_ids}\")\n",
    "    \n",
    "    # Batch-Anfrage\n",
    "    if doc_ids:\n",
    "        start_time = time.time()\n",
    "        batch_docs = client.get_drucksache_ids(doc_ids)\n",
    "        batch_time = time.time() - start_time\n",
    "        \n",
    "        print(f\"🚀 Batch-Anfrage in {batch_time:.2f}s abgeschlossen\")\n",
    "        print(f\"📊 {len(batch_docs)} Dokumente erhalten\")\n",
    "        \n",
    "except Exception as e:\n",
    "    print(f\"❌ Fehler: {e}\")"
   ]
  },
  {
   "cell_type": "markdown",
   "metadata": {},
   "source": [
    "## Performance-Tipps\n",
    "\n",
    "Wichtige Tipps für optimale Performance:"
   ]
  },
  {
   "cell_type": "code",
   "execution_count": 3,
   "metadata": {},
   "outputs": [
    {
     "ename": "SyntaxError",
     "evalue": "unterminated string literal (detected at line 3) (1586306495.py, line 3)",
     "output_type": "error",
     "traceback": [
      "  \u001b[36mCell\u001b[39m\u001b[36m \u001b[39m\u001b[32mIn[3]\u001b[39m\u001b[32m, line 3\u001b[39m\n\u001b[31m    \u001b[39m\u001b[31mprint(\"\u001b[39m\n          ^\n\u001b[31mSyntaxError\u001b[39m\u001b[31m:\u001b[39m unterminated string literal (detected at line 3)\n"
     ]
    }
   ],
   "source": [
    "# Performance-Tipps\n",
    "print(\"🏃 Performance-Tipps:\")\n",
    "print(\"\n",
    "1. ✅ Batch-Anfragen nutzen:\")\n",
    "print(\"   client.get_drucksache_ids([1,2,3,4,5])  # Effizient\")\n",
    "print(\"\n",
    "2. ✅ Caching aktivieren:\")\n",
    "print(\"   client = DipAnfrage(api_key=key, enable_cache=True)\")\n",
    "print(\"\n",
    "3. ✅ Rate-Limiting beachten:\")\n",
    "print(\"   client = DipAnfrage(api_key=key, rate_limit_delay=0.2)\")\n",
    "print(\"\n",
    "4. ✅ Spezifische Filter verwenden:\")\n",
    "print(\"   client.search_documents('term', wahlperiode=20, anzahl=50)\")\n",
    "print(\"\n",
    "💡 Zusätzliche Tipps:\")\n",
    "print(\"   • Verwenden Sie angemessene anzahl-Parameter\")\n",
    "print(\"   • Aktivieren Sie Logging für Debugging\")\n",
    "print(\"   • Testen Sie mit kleinen Datenmengen zuerst\")"
   ]
  },
  {
   "cell_type": "code",
   "execution_count": null,
   "metadata": {},
   "outputs": [],
   "source": []
  }
 ],
 "metadata": {
  "kernelspec": {
   "display_name": "Python 3 (ipykernel)",
   "language": "python",
   "name": "python3"
  },
  "language_info": {
   "codemirror_mode": {
    "name": "ipython",
    "version": 3
   },
   "file_extension": ".py",
   "mimetype": "text/x-python",
   "name": "python",
   "nbconvert_exporter": "python",
   "pygments_lexer": "ipython3",
   "version": "3.13.3"
  }
 },
 "nbformat": 4,
 "nbformat_minor": 4
}
