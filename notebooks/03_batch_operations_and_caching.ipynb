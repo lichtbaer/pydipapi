{
 "cells": [
  {
   "cell_type": "markdown",
   "metadata": {},
   "source": [
    "# PyDipAPI - Batch-Operationen und Caching\n",
    "\n",
    "In diesem Notebook lernen Sie fortgeschrittene Funktionen f\u00fcr effizientes Arbeiten.\n",
    "\n",
    "## Inhalt:\n",
    "1. Batch-Anfragen f\u00fcr mehrere IDs\n",
    "2. Caching aktivieren und nutzen\n",
    "3. Performance-Optimierung\n",
    "4. Best Practices"
   ]
  },
  {
   "cell_type": "code",
   "execution_count": null,
   "metadata": {},
   "outputs": [],
   "source": [
    "# Setup mit Caching\n",
    "import sys\n",
    "import os\n",
    "import time\n",
    "sys.path.insert(0, os.path.abspath('..'))\n",
    "\n",
    "from pydipapi import DipAnfrage\n",
    "\n",
    "# WICHTIG: Ersetzen Sie dies mit Ihrem echten API-Schl\u00fcssel!\n",
    "API_KEY = \"HIER_IHREN_API_SCHLUESSEL_EINFUEGEN\"\n",
    "\n",
    "if API_KEY != \"HIER_IHREN_API_SCHLUESSEL_EINFUEGEN\":\n",
    "    # Client mit aktiviertem Caching\n",
    "    client = DipAnfrage(\n",
    "        api_key=API_KEY,\n",
    "        enable_cache=True,\n",
    "        cache_ttl=3600,\n",
    "        rate_limit_delay=0.2\n",
    "    )\n",
    "    print(\"\ud83d\ude80 Client mit Caching initialisiert!\")\n",
    "else:\n",
    "    print(\"\u26a0\ufe0f  Bitte API-Schl\u00fcssel einf\u00fcgen!\")"
   ]
  },
  {
   "cell_type": "markdown",
   "metadata": {},
   "source": [
    "## Batch-Anfragen\n",
    "\n",
    "Mehrere IDs auf einmal abfragen:"
   ]
  },
  {
   "cell_type": "code",
   "execution_count": null,
   "metadata": {},
   "outputs": [],
   "source": [
    "# Batch-Anfrage demonstrieren\n",
    "print(\"\ud83d\udccb Sammle IDs f\u00fcr Batch-Anfragen...\")\n",
    "\n",
    "try:\n",
    "    # Sammle einige IDs\n",
    "    docs = client.get_drucksache(anzahl=5)\n",
    "    doc_ids = [doc.get('id') for doc in docs if doc.get('id')][:3]\n",
    "    \n",
    "    print(f\"\u2705 {len(doc_ids)} Dokument-IDs gesammelt: {doc_ids}\")\n",
    "    \n",
    "    # Batch-Anfrage\n",
    "    if doc_ids:\n",
    "        start_time = time.time()\n",
    "        batch_docs = client.get_drucksache_ids(doc_ids)\n",
    "        batch_time = time.time() - start_time\n",
    "        \n",
    "        print(f\"\ud83d\ude80 Batch-Anfrage in {batch_time:.2f}s abgeschlossen\")\n",
    "        print(f\"\ud83d\udcca {len(batch_docs)} Dokumente erhalten\")\n",
    "        \n",
    "except Exception as e:\n",
    "    print(f\"\u274c Fehler: {e}\")"
   ]
  },
  {
   "cell_type": "markdown",
   "metadata": {},
   "source": [
    "## Performance-Tipps\n",
    "\n",
    "Wichtige Tipps f\u00fcr optimale Performance:"
   ]
  },
  {
   "cell_type": "code",
   "execution_count": null,
   "metadata": {},
   "outputs": [],
   "source": [
    "# Performance-Tipps\n",
    "print(\"\ud83c\udfc3 Performance-Tipps:\")\n",
    "print(\"\n1. \u2705 Batch-Anfragen nutzen:\")\n",
    "print(\"   client.get_drucksache_ids([1,2,3,4,5])  # Effizient\")\n",
    "print(\"\n2. \u2705 Caching aktivieren:\")\n",
    "print(\"   client = DipAnfrage(api_key=key, enable_cache=True)\")\n",
    "print(\"\n3. \u2705 Rate-Limiting beachten:\")\n",
    "print(\"   client = DipAnfrage(api_key=key, rate_limit_delay=0.2)\")\n",
    "print(\"\n4. \u2705 Spezifische Filter verwenden:\")\n",
    "print(\"   client.search_documents('term', wahlperiode=20, anzahl=50)\")\n",
    "print(\"\n\ud83d\udca1 Zus\u00e4tzliche Tipps:\")\n",
    "print(\"   \u2022 Verwenden Sie angemessene anzahl-Parameter\")\n",
    "print(\"   \u2022 Aktivieren Sie Logging f\u00fcr Debugging\")\n",
    "print(\"   \u2022 Testen Sie mit kleinen Datenmengen zuerst\")"
   ]
  }
 ],
 "metadata": {
  "kernelspec": {
   "display_name": "Python 3",
   "language": "python",
   "name": "python3"
  },
  "language_info": {
   "codemirror_mode": {
    "name": "ipython",
    "version": 3
   },
   "file_extension": ".py",
   "name": "python",
   "nbconvert_exporter": "python",
   "pygments_lexer": "ipython3",
   "version": "3.8.5"
  }
 },
 "nbformat": 4,
 "nbformat_minor": 4
}