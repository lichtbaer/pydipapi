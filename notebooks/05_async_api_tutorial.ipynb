{
 "cells": [
  {
   "cell_type": "markdown",
   "metadata": {},
   "source": [
    "# PyDipAPI - Async API Tutorial\n",
    "\n",
    "Dieses Notebook demonstriert die asynchronen Features von PyDipAPI für bessere Performance.\n",
    "\n",
    "## Was Sie lernen werden:\n",
    "1. **AsyncDipAnfrage** - Asynchroner Client\n",
    "2. **Context Managers** - Ressourcen-Management\n",
    "3. **Performance-Vergleich** - Sync vs. Async\n",
    "4. **Parallele Anfragen** - Mehrere Requests gleichzeitig\n",
    "5. **Error Handling** - Async-spezifische Fehlerbehandlung"
   ]
  },
  {
   "cell_type": "code",
   "execution_count": null,
   "metadata": {},
   "outputs": [],
   "source": [
    "import sys\n",
    "import os\n",
    "import asyncio\n",
    "import time\n",
    "sys.path.insert(0, os.path.abspath('..'))\n",
    "\n",
    "from pydipapi import DipAnfrage\n",
    "from pydipapi.async_api import AsyncDipAnfrage\n",
    "\n",
    "# API-Konfiguration\n",
    "API_KEY = \"HIER_IHREN_API_SCHLUESSEL_EINFUEGEN\"\n",
    "sync_client = DipAnfrage(api_key=API_KEY)\n",
    "\n",
    "print(\"✅ Async API Tutorial bereit!\")"
   ]
  },
  {
   "cell_type": "markdown",
   "metadata": {},
   "source": [
    "## AsyncDipAnfrage - Grundlagen"
   ]
  },
  {
   "cell_type": "code",
   "execution_count": null,
   "metadata": {},
   "outputs": [],
   "source": [
    "# Async Client testen\n",
    "async def test_async_basic():\n",
    "    print(\"🚀 Teste AsyncDipAnfrage...\")\n",
    "    \n",
    "    async with AsyncDipAnfrage(api_key=API_KEY) as async_client:\n",
    "        try:\n",
    "            persons = await async_client.get_person(anzahl=3)\n",
    "            print(f\"✅ {len(persons)} Personen asynchron geladen\")\n",
    "            \n",
    "            if persons:\n",
    "                person = persons[0]\n",
    "                name = f\"{person.get('vorname', '')} {person.get('nachname', '')}\"\n",
    "                print(f\"Erste Person: {name.strip()}\")\n",
    "                \n",
    "        except Exception as e:\n",
    "            print(f\"❌ Fehler: {e}\")\n",
    "    \n",
    "    print(\"✅ Async Client ordnungsgemäß geschlossen\")\n",
    "\n",
    "# Async Funktion ausführen\n",
    "await test_async_basic()"
   ]
  },
  {
   "cell_type": "markdown",
   "metadata": {},
   "source": [
    "## Performance-Vergleich: Sync vs. Async"
   ]
  },
  {
   "cell_type": "code",
   "execution_count": null,
   "metadata": {},
   "outputs": [],
   "source": [
    "# Performance-Vergleich\n",
    "async def performance_test():\n",
    "    num_requests = 4\n",
    "    print(f\"⚡ Performance-Test mit {num_requests} Anfragen\")\n",
    "    print(\"=\" * 50)\n",
    "    \n",
    "    # Synchrone Anfragen (sequenziell)\n",
    "    print(f\"📊 Synchrone Anfragen...\")\n",
    "    start_time = time.time()\n",
    "    \n",
    "    sync_results = []\n",
    "    for i in range(num_requests):\n",
    "        try:\n",
    "            result = sync_client.get_person(anzahl=2)\n",
    "            sync_results.append(len(result) if result else 0)\n",
    "        except Exception as e:\n",
    "            print(f\"Sync Fehler {i+1}: {e}\")\n",
    "            sync_results.append(0)\n",
    "    \n",
    "    sync_time = time.time() - start_time\n",
    "    print(f\"✅ Sync Zeit: {sync_time:.2f} Sekunden\")\n",
    "    \n",
    "    # Asynchrone Anfragen (parallel)\n",
    "    print(f\"\\n🚀 Asynchrone Anfragen...\")\n",
    "    start_time = time.time()\n",
    "    \n",
    "    async def fetch_async(client, request_id):\n",
    "        try:\n",
    "            result = await client.get_person(anzahl=2)\n",
    "            return len(result) if result else 0\n",
    "        except Exception as e:\n",
    "            print(f\"Async Fehler {request_id}: {e}\")\n",
    "            return 0\n",
    "    \n",
    "    async with AsyncDipAnfrage(api_key=API_KEY) as async_client:\n",
    "        tasks = [fetch_async(async_client, i+1) for i in range(num_requests)]\n",
    "        async_results = await asyncio.gather(*tasks)\n",
    "    \n",
    "    async_time = time.time() - start_time\n",
    "    print(f\"✅ Async Zeit: {async_time:.2f} Sekunden\")\n",
    "    \n",
    "    # Ergebnisse\n",
    "    print(f\"\\n📈 Performance-Gewinn:\")\n",
    "    if async_time > 0:\n",
    "        speedup = sync_time / async_time\n",
    "        print(f\"- Async ist {speedup:.1f}x schneller!\")\n",
    "        print(f\"- Zeitersparnis: {sync_time - async_time:.2f} Sekunden\")\n",
    "    \n",
    "    print(f\"\\n📊 Ergebnisse:\")\n",
    "    print(f\"- Sync: {sync_results}\")\n",
    "    print(f\"- Async: {async_results}\")\n",
    "\n",
    "await performance_test()"
   ]
  },
  {
   "cell_type": "markdown",
   "metadata": {},
   "source": [
    "## Erweiterte Async-Patterns"
   ]
  },
  {
   "cell_type": "code",
   "execution_count": null,
   "metadata": {},
   "outputs": [],
   "source": [
    "# Verschiedene Datentypen parallel abrufen\n",
    "async def mixed_data_fetching():\n",
    "    print(\"🎯 Verschiedene Datentypen parallel abrufen...\")\n",
    "    \n",
    "    async with AsyncDipAnfrage(api_key=API_KEY) as client:\n",
    "        # Alle Anfragen parallel starten\n",
    "        tasks = [\n",
    "            client.get_person(anzahl=3),\n",
    "            client.get_drucksache(anzahl=3),\n",
    "            client.get_aktivitaet(anzahl=3)\n",
    "        ]\n",
    "        \n",
    "        try:\n",
    "            persons, documents, activities = await asyncio.gather(*tasks)\n",
    "            \n",
    "            print(f\"✅ Parallel geladen:\")\n",
    "            print(f\"  - Personen: {len(persons) if persons else 0}\")\n",
    "            print(f\"  - Dokumente: {len(documents) if documents else 0}\")\n",
    "            print(f\"  - Aktivitäten: {len(activities) if activities else 0}\")\n",
    "            \n",
    "        except Exception as e:\n",
    "            print(f\"❌ Fehler beim parallelen Laden: {e}\")\n",
    "\n",
    "await mixed_data_fetching()"
   ]
  },
  {
   "cell_type": "markdown",
   "metadata": {},
   "source": [
    "## Error Handling in Async Context"
   ]
  },
  {
   "cell_type": "code",
   "execution_count": null,
   "metadata": {},
   "outputs": [],
   "source": [
    "# Robuste Fehlerbehandlung\n",
    "async def robust_async_fetching():\n",
    "    print(\"🛡️ Teste robuste Fehlerbehandlung...\")\n",
    "    \n",
    "    async def safe_fetch(client, fetch_func, name):\n",
    "        try:\n",
    "            result = await fetch_func()\n",
    "            print(f\"✅ {name}: {len(result) if result else 0} Elemente\")\n",
    "            return result\n",
    "        except Exception as e:\n",
    "            print(f\"❌ {name} Fehler: {e}\")\n",
    "            return []\n",
    "    \n",
    "    async with AsyncDipAnfrage(api_key=API_KEY) as client:\n",
    "        # Verschiedene Anfragen mit individueller Fehlerbehandlung\n",
    "        tasks = [\n",
    "            safe_fetch(client, lambda: client.get_person(anzahl=2), \"Personen\"),\n",
    "            safe_fetch(client, lambda: client.get_drucksache(anzahl=2), \"Dokumente\"),\n",
    "            safe_fetch(client, lambda: client.get_aktivitaet(anzahl=2), \"Aktivitäten\")\n",
    "        ]\n",
    "        \n",
    "        results = await asyncio.gather(*tasks, return_exceptions=True)\n",
    "        \n",
    "        successful_requests = sum(1 for r in results if not isinstance(r, Exception))\n",
    "        print(f\"\\n📊 Erfolgreiche Anfragen: {successful_requests}/{len(tasks)}\")\n",
    "\n",
    "await robust_async_fetching()"
   ]
  },
  {
   "cell_type": "markdown",
   "metadata": {},
   "source": [
    "## Zusammenfassung\n",
    "\n",
    "✅ **Async API erfolgreich getestet!**\n",
    "\n",
    "### Gelernte Konzepte:\n",
    "- **AsyncDipAnfrage**: Asynchroner Client für parallele Anfragen\n",
    "- **Context Manager**: Automatisches Ressourcen-Management\n",
    "- **Performance**: Erhebliche Geschwindigkeitsverbesserungen\n",
    "- **Parallelität**: Mehrere Anfragen gleichzeitig\n",
    "- **Error Handling**: Robuste Fehlerbehandlung\n",
    "\n",
    "### Wann Async verwenden:\n",
    "- **Viele API-Anfragen**: Parallele Verarbeitung spart Zeit\n",
    "- **I/O-intensive Operationen**: Während Netzwerk-Wartezeiten\n",
    "- **Real-time Anwendungen**: Für bessere Responsivität\n",
    "\n",
    "**Weiter mit Notebook 6: Datenvisualisierung! 📊**"
   ]
  }
 ],
 "metadata": {
  "kernelspec": {
   "display_name": "Python 3",
   "language": "python",
   "name": "python3"
  },
  "language_info": {
   "codemirror_mode": {
    "name": "ipython",
    "version": 3
   },
   "file_extension": ".py",
   "mimetype": "text/x-python",
   "name": "python",
   "nbconvert_exporter": "python",
   "pygments_lexer": "ipython3",
   "version": "3.8.0"
  }
 },
 "nbformat": 4,
 "nbformat_minor": 4
}
